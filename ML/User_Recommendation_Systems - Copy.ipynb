{
 "cells": [
  {
   "cell_type": "markdown",
   "metadata": {
    "id": "JNb39oDnbocU"
   },
   "source": [
    "# **User Recommendation**"
   ]
  },
  {
   "cell_type": "markdown",
   "metadata": {
    "id": "tzumFRFBb_gB"
   },
   "source": [
    "## **Dataset Summary**\n",
    "\n",
    "Dataset Pekerjaan: Dataset ini harus berisi informasi tentang pekerjaan yang tersedia, seperti nama pekerjaan, deskripsi pekerjaan, keterampilan yang diperlukan, persyaratan pendidikan, pengalaman kerja, lokasi pekerjaan, dan atribut lain yang relevan.\n",
    "\n",
    "Dataset user: Dataset ini merupakan kumpulan informasi yang mencakup pendidikan, keterampilan, dan preferensi pengguna terkait pekerjaan. Data ini juga membantu dalam mencocokkan persyaratan pekerjaan dengan profil pengguna, sementara preferensi pengguna, seperti lokasi, keterampilan, industri, gaji, dan atribut lain yang relevan, digunakan untuk mencocokkan pengguna dengan pekerjaan yang sesuai."
   ]
  },
  {
   "cell_type": "markdown",
   "metadata": {
    "id": "7Ck87ph7cOCH"
   },
   "source": [
    "## **Library**"
   ]
  },
  {
   "cell_type": "code",
   "execution_count": 1,
   "metadata": {
    "id": "LrRy5FEepzBG"
   },
   "outputs": [],
   "source": [
    "import pandas as pd\n",
    "import numpy as np\n",
    "import seaborn as sns\n",
    "import matplotlib.pyplot as plt\n",
    "import tensorflow as tf\n",
    "from sklearn.feature_extraction.text import TfidfVectorizer\n",
    "from sklearn.metrics.pairwise import cosine_similarity\n",
    "import random"
   ]
  },
  {
   "cell_type": "markdown",
   "metadata": {
    "id": "VDV-QOqd-Ww8"
   },
   "source": [
    "## **Data Understanding**"
   ]
  },
  {
   "cell_type": "code",
   "execution_count": 2,
   "metadata": {
    "colab": {
     "base_uri": "https://localhost:8080/"
    },
    "id": "qIh7-skV1gsN",
    "outputId": "f7a35c45-fbbd-4008-e50e-78e7af4ee277"
   },
   "outputs": [
    {
     "name": "stdout",
     "output_type": "stream",
     "text": [
      "Jumlah data pekerjaan: 20\n",
      "Jumlah data user: 20\n"
     ]
    }
   ],
   "source": [
    "# data path\n",
    "job = pd.read_csv('list_pekerjaan.csv')\n",
    "user = pd.read_csv('user.csv')\n",
    "\n",
    "# see the amount of data\n",
    "print(f\"Jumlah data pekerjaan: {len(job.Id_Pekerjaan.unique())}\")\n",
    "print(f'Jumlah data user: {len(user.Id_Pengguna.unique())}')"
   ]
  },
  {
   "cell_type": "code",
   "execution_count": 3,
   "metadata": {
    "colab": {
     "base_uri": "https://localhost:8080/",
     "height": 187
    },
    "id": "z2NFRZ4gfJ18",
    "outputId": "ce9662ec-8195-450c-8dc4-103f8fd01ed3"
   },
   "outputs": [
    {
     "data": {
      "text/html": [
       "<div>\n",
       "<style scoped>\n",
       "    .dataframe tbody tr th:only-of-type {\n",
       "        vertical-align: middle;\n",
       "    }\n",
       "\n",
       "    .dataframe tbody tr th {\n",
       "        vertical-align: top;\n",
       "    }\n",
       "\n",
       "    .dataframe thead th {\n",
       "        text-align: right;\n",
       "    }\n",
       "</style>\n",
       "<table border=\"1\" class=\"dataframe\">\n",
       "  <thead>\n",
       "    <tr style=\"text-align: right;\">\n",
       "      <th></th>\n",
       "      <th>Id_Pekerjaan</th>\n",
       "      <th>Nama_Pekerjaan</th>\n",
       "      <th>Deskripsi_Pekerjaan</th>\n",
       "      <th>Persyaratan_Pendidikan</th>\n",
       "      <th>Keterampilan</th>\n",
       "      <th>Lokasi_Pekerjaan</th>\n",
       "      <th>Gaji</th>\n",
       "      <th>Industri</th>\n",
       "    </tr>\n",
       "  </thead>\n",
       "  <tbody>\n",
       "    <tr>\n",
       "      <th>0</th>\n",
       "      <td>1</td>\n",
       "      <td>Tukang Kebun</td>\n",
       "      <td>Melakukan perawatan kebun, seperti menyiram ta...</td>\n",
       "      <td>Tidak memerlukan pendidikan formal</td>\n",
       "      <td>Keterampilan kebun</td>\n",
       "      <td>Jakarta</td>\n",
       "      <td>Rp 3.000.000 - Rp 4.000.000</td>\n",
       "      <td>Pertanian</td>\n",
       "    </tr>\n",
       "    <tr>\n",
       "      <th>1</th>\n",
       "      <td>2</td>\n",
       "      <td>Pengrajin Anyaman</td>\n",
       "      <td>Membuat anyaman dari bahan-bahan alami seperti...</td>\n",
       "      <td>Tidak memerlukan pendidikan formal</td>\n",
       "      <td>Keterampilan anyaman</td>\n",
       "      <td>Jakarta</td>\n",
       "      <td>Rp 3.500.000 - Rp 4.500.000</td>\n",
       "      <td>Kerajinan</td>\n",
       "    </tr>\n",
       "    <tr>\n",
       "      <th>2</th>\n",
       "      <td>3</td>\n",
       "      <td>Penjahit</td>\n",
       "      <td>Menghasilkan produk jadi berdasarkan desain da...</td>\n",
       "      <td>Tidak memerlukan pendidikan formal</td>\n",
       "      <td>Keterampilan menjahit</td>\n",
       "      <td>Surabaya</td>\n",
       "      <td>Rp 4.000.000 - Rp 5.000.000</td>\n",
       "      <td>Fashion</td>\n",
       "    </tr>\n",
       "    <tr>\n",
       "      <th>3</th>\n",
       "      <td>4</td>\n",
       "      <td>Pembuat Kerajinan Tangan</td>\n",
       "      <td>Membuat produk kerajinan tangan seperti tas ra...</td>\n",
       "      <td>Tidak memerlukan pendidikan formal</td>\n",
       "      <td>Keterampilan kerajinan tangan</td>\n",
       "      <td>Yogyakarta</td>\n",
       "      <td>Rp 4.500.000 - Rp 5.500.000</td>\n",
       "      <td>Kerajinan</td>\n",
       "    </tr>\n",
       "    <tr>\n",
       "      <th>4</th>\n",
       "      <td>5</td>\n",
       "      <td>Pengrajin Batik</td>\n",
       "      <td>Menghasilkan batik dengan teknik tradisional</td>\n",
       "      <td>Tidak memerlukan pendidikan formal</td>\n",
       "      <td>Keterampilan batik</td>\n",
       "      <td>Medan</td>\n",
       "      <td>Rp 5.000.000 - Rp 6.000.000</td>\n",
       "      <td>Fashion</td>\n",
       "    </tr>\n",
       "  </tbody>\n",
       "</table>\n",
       "</div>"
      ],
      "text/plain": [
       "   Id_Pekerjaan            Nama_Pekerjaan  \\\n",
       "0             1              Tukang Kebun   \n",
       "1             2         Pengrajin Anyaman   \n",
       "2             3                  Penjahit   \n",
       "3             4  Pembuat Kerajinan Tangan   \n",
       "4             5           Pengrajin Batik   \n",
       "\n",
       "                                 Deskripsi_Pekerjaan  \\\n",
       "0  Melakukan perawatan kebun, seperti menyiram ta...   \n",
       "1  Membuat anyaman dari bahan-bahan alami seperti...   \n",
       "2  Menghasilkan produk jadi berdasarkan desain da...   \n",
       "3  Membuat produk kerajinan tangan seperti tas ra...   \n",
       "4       Menghasilkan batik dengan teknik tradisional   \n",
       "\n",
       "               Persyaratan_Pendidikan                   Keterampilan  \\\n",
       "0  Tidak memerlukan pendidikan formal             Keterampilan kebun   \n",
       "1  Tidak memerlukan pendidikan formal           Keterampilan anyaman   \n",
       "2  Tidak memerlukan pendidikan formal          Keterampilan menjahit   \n",
       "3  Tidak memerlukan pendidikan formal  Keterampilan kerajinan tangan   \n",
       "4  Tidak memerlukan pendidikan formal             Keterampilan batik   \n",
       "\n",
       "  Lokasi_Pekerjaan                         Gaji   Industri  \n",
       "0          Jakarta  Rp 3.000.000 - Rp 4.000.000  Pertanian  \n",
       "1          Jakarta  Rp 3.500.000 - Rp 4.500.000  Kerajinan  \n",
       "2         Surabaya  Rp 4.000.000 - Rp 5.000.000    Fashion  \n",
       "3       Yogyakarta  Rp 4.500.000 - Rp 5.500.000  Kerajinan  \n",
       "4            Medan  Rp 5.000.000 - Rp 6.000.000    Fashion  "
      ]
     },
     "execution_count": 3,
     "metadata": {},
     "output_type": "execute_result"
    }
   ],
   "source": [
    "# see job list\n",
    "job.head(5)"
   ]
  },
  {
   "cell_type": "code",
   "execution_count": 4,
   "metadata": {
    "colab": {
     "base_uri": "https://localhost:8080/",
     "height": 143
    },
    "id": "L2bZvPx3fNmh",
    "outputId": "28b5fc9a-30e4-46b3-9831-99434032f1d4",
    "scrolled": true
   },
   "outputs": [
    {
     "data": {
      "text/html": [
       "<div>\n",
       "<style scoped>\n",
       "    .dataframe tbody tr th:only-of-type {\n",
       "        vertical-align: middle;\n",
       "    }\n",
       "\n",
       "    .dataframe tbody tr th {\n",
       "        vertical-align: top;\n",
       "    }\n",
       "\n",
       "    .dataframe thead th {\n",
       "        text-align: right;\n",
       "    }\n",
       "</style>\n",
       "<table border=\"1\" class=\"dataframe\">\n",
       "  <thead>\n",
       "    <tr style=\"text-align: right;\">\n",
       "      <th></th>\n",
       "      <th>Id_Pengguna</th>\n",
       "      <th>Nama_Pengguna</th>\n",
       "      <th>Usia</th>\n",
       "      <th>Pendidikan</th>\n",
       "      <th>Keterampilan</th>\n",
       "      <th>Industri</th>\n",
       "    </tr>\n",
       "  </thead>\n",
       "  <tbody>\n",
       "    <tr>\n",
       "      <th>0</th>\n",
       "      <td>1</td>\n",
       "      <td>Andi</td>\n",
       "      <td>30</td>\n",
       "      <td>SMA</td>\n",
       "      <td>Keterampilan kebun</td>\n",
       "      <td>Pertanian</td>\n",
       "    </tr>\n",
       "    <tr>\n",
       "      <th>1</th>\n",
       "      <td>2</td>\n",
       "      <td>Budi</td>\n",
       "      <td>28</td>\n",
       "      <td>S1</td>\n",
       "      <td>Keterampilan anyaman</td>\n",
       "      <td>Kerajinan</td>\n",
       "    </tr>\n",
       "    <tr>\n",
       "      <th>2</th>\n",
       "      <td>3</td>\n",
       "      <td>Cindy</td>\n",
       "      <td>27</td>\n",
       "      <td>SMA</td>\n",
       "      <td>Keterampilan menjahit</td>\n",
       "      <td>Fashion</td>\n",
       "    </tr>\n",
       "    <tr>\n",
       "      <th>3</th>\n",
       "      <td>4</td>\n",
       "      <td>Dini</td>\n",
       "      <td>32</td>\n",
       "      <td>D3</td>\n",
       "      <td>Keterampilan kerajinan tangan</td>\n",
       "      <td>Kerajinan</td>\n",
       "    </tr>\n",
       "    <tr>\n",
       "      <th>4</th>\n",
       "      <td>5</td>\n",
       "      <td>Eko</td>\n",
       "      <td>29</td>\n",
       "      <td>SMA</td>\n",
       "      <td>Keterampilan batik</td>\n",
       "      <td>Fashion</td>\n",
       "    </tr>\n",
       "  </tbody>\n",
       "</table>\n",
       "</div>"
      ],
      "text/plain": [
       "   Id_Pengguna Nama_Pengguna  Usia Pendidikan                   Keterampilan  \\\n",
       "0            1          Andi    30        SMA             Keterampilan kebun   \n",
       "1            2          Budi    28         S1           Keterampilan anyaman   \n",
       "2            3         Cindy    27        SMA          Keterampilan menjahit   \n",
       "3            4          Dini    32         D3  Keterampilan kerajinan tangan   \n",
       "4            5           Eko    29        SMA             Keterampilan batik   \n",
       "\n",
       "    Industri  \n",
       "0  Pertanian  \n",
       "1  Kerajinan  \n",
       "2    Fashion  \n",
       "3  Kerajinan  \n",
       "4    Fashion  "
      ]
     },
     "execution_count": 4,
     "metadata": {},
     "output_type": "execute_result"
    }
   ],
   "source": [
    "# see users\n",
    "user.head(5)"
   ]
  },
  {
   "cell_type": "markdown",
   "metadata": {
    "id": "1bi47HgG_djZ"
   },
   "source": [
    "## **Data Preprocessing**"
   ]
  },
  {
   "cell_type": "code",
   "execution_count": 5,
   "metadata": {
    "colab": {
     "base_uri": "https://localhost:8080/"
    },
    "id": "v1yB988M_fX9",
    "outputId": "008d1fd4-e57e-4e49-ec76-f11479e534ad"
   },
   "outputs": [
    {
     "name": "stdout",
     "output_type": "stream",
     "text": [
      "<class 'pandas.core.frame.DataFrame'>\n",
      "RangeIndex: 20 entries, 0 to 19\n",
      "Data columns (total 8 columns):\n",
      " #   Column                  Non-Null Count  Dtype \n",
      "---  ------                  --------------  ----- \n",
      " 0   Id_Pekerjaan            20 non-null     int64 \n",
      " 1   Nama_Pekerjaan          20 non-null     object\n",
      " 2   Deskripsi_Pekerjaan     20 non-null     object\n",
      " 3   Persyaratan_Pendidikan  20 non-null     object\n",
      " 4   Keterampilan            20 non-null     object\n",
      " 5   Lokasi_Pekerjaan        20 non-null     object\n",
      " 6   Gaji                    20 non-null     object\n",
      " 7   Industri                20 non-null     object\n",
      "dtypes: int64(1), object(7)\n",
      "memory usage: 1.4+ KB\n"
     ]
    }
   ],
   "source": [
    "# job information\n",
    "job.info()"
   ]
  },
  {
   "cell_type": "code",
   "execution_count": 6,
   "metadata": {
    "scrolled": true
   },
   "outputs": [
    {
     "name": "stdout",
     "output_type": "stream",
     "text": [
      "<class 'pandas.core.frame.DataFrame'>\n",
      "RangeIndex: 20 entries, 0 to 19\n",
      "Data columns (total 6 columns):\n",
      " #   Column         Non-Null Count  Dtype \n",
      "---  ------         --------------  ----- \n",
      " 0   Id_Pengguna    20 non-null     int64 \n",
      " 1   Nama_Pengguna  20 non-null     object\n",
      " 2   Usia           20 non-null     int64 \n",
      " 3   Pendidikan     20 non-null     object\n",
      " 4   Keterampilan   20 non-null     object\n",
      " 5   Industri       20 non-null     object\n",
      "dtypes: int64(2), object(4)\n",
      "memory usage: 1.1+ KB\n"
     ]
    }
   ],
   "source": [
    "# user information\n",
    "user.info()"
   ]
  },
  {
   "cell_type": "markdown",
   "metadata": {
    "id": "uG-A-xSWDaHH"
   },
   "source": [
    "## **Exploratory Data Analysis**"
   ]
  },
  {
   "cell_type": "code",
   "execution_count": 7,
   "metadata": {
    "colab": {
     "base_uri": "https://localhost:8080/",
     "height": 405
    },
    "id": "1lRoDc08Egvf",
    "outputId": "354004b2-a47b-463a-fbc6-0be50d86c788"
   },
   "outputs": [
    {
     "data": {
      "text/plain": [
       "<Axes: xlabel='Pendidikan', ylabel='count'>"
      ]
     },
     "execution_count": 7,
     "metadata": {},
     "output_type": "execute_result"
    },
    {
     "data": {
      "image/png": "[encoded data removed]",
      "text/plain": [
       "<Figure size 600x400 with 1 Axes>"
      ]
     },
     "metadata": {},
     "output_type": "display_data"
    }
   ],
   "source": [
    "# countplot Pendidikan\n",
    "plt.figure(figsize=(6, 4))\n",
    "sns.countplot(x=user['Pendidikan'], data=user, order=user['Pendidikan'].value_counts().index)"
   ]
  },
  {
   "cell_type": "code",
   "execution_count": 8,
   "metadata": {
    "colab": {
     "base_uri": "https://localhost:8080/",
     "height": 388
    },
    "id": "oRSxQJrLE8zp",
    "outputId": "fccf976d-b864-4921-c580-bcd81c62ae0b"
   },
   "outputs": [
    {
     "data": {
      "image/png": "[encoded data removed]",
      "text/plain": [
       "<Figure size 1000x400 with 1 Axes>"
      ]
     },
     "metadata": {},
     "output_type": "display_data"
    }
   ],
   "source": [
    "# countplot Industri\n",
    "plt.figure(figsize=(10, 4))\n",
    "ax = sns.countplot(x=user['Industri'], data=user, order=user['Industri'].value_counts().index)"
   ]
  },
  {
   "cell_type": "code",
   "execution_count": 9,
   "metadata": {
    "colab": {
     "base_uri": "https://localhost:8080/",
     "height": 543
    },
    "id": "8_8X-inFrqmH",
    "outputId": "4f02380b-377a-416e-978b-b147be9ae646"
   },
   "outputs": [
    {
     "data": {
      "image/png": "[encoded data removed]",
      "text/plain": [
       "<Figure size 1200x300 with 1 Axes>"
      ]
     },
     "metadata": {},
     "output_type": "display_data"
    }
   ],
   "source": [
    "# countplot Lokasi_Pekerjaan\n",
    "plt.figure(figsize=(12, 3))\n",
    "top_10_places = job['Lokasi_Pekerjaan'].value_counts().nlargest(5).index\n",
    "ax = sns.countplot(x=job['Lokasi_Pekerjaan'], data=job, order=top_10_places)\n",
    "plt.xticks(rotation=80)\n",
    "plt.show()"
   ]
  },
  {
   "cell_type": "markdown",
   "metadata": {
    "id": "3sjESo9XK4zT"
   },
   "source": [
    "## **Data Cleaning**"
   ]
  },
  {
   "cell_type": "code",
   "execution_count": 10,
   "metadata": {
    "colab": {
     "base_uri": "https://localhost:8080/"
    },
    "id": "vw3C_xusK6bk",
    "outputId": "53280179-0bd7-44bb-8386-f441b29f8c56"
   },
   "outputs": [
    {
     "data": {
      "text/plain": [
       "Id_Pengguna      0\n",
       "Nama_Pengguna    0\n",
       "Usia             0\n",
       "Pendidikan       0\n",
       "Keterampilan     0\n",
       "Industri         0\n",
       "dtype: int64"
      ]
     },
     "execution_count": 10,
     "metadata": {},
     "output_type": "execute_result"
    }
   ],
   "source": [
    "# find duplicate values\n",
    "user.isnull().sum()"
   ]
  },
  {
   "cell_type": "code",
   "execution_count": 11,
   "metadata": {
    "colab": {
     "base_uri": "https://localhost:8080/"
    },
    "id": "HbybCz0TLAmB",
    "outputId": "a1e067f7-ea9c-41b8-a3ff-ff5b948bcc26"
   },
   "outputs": [
    {
     "data": {
      "text/plain": [
       "Id_Pekerjaan              0\n",
       "Nama_Pekerjaan            0\n",
       "Deskripsi_Pekerjaan       0\n",
       "Persyaratan_Pendidikan    0\n",
       "Keterampilan              0\n",
       "Lokasi_Pekerjaan          0\n",
       "Gaji                      0\n",
       "Industri                  0\n",
       "dtype: int64"
      ]
     },
     "execution_count": 11,
     "metadata": {},
     "output_type": "execute_result"
    }
   ],
   "source": [
    "# find duplicate values\n",
    "job.isnull().sum()"
   ]
  },
  {
   "cell_type": "code",
   "execution_count": 12,
   "metadata": {
    "colab": {
     "base_uri": "https://localhost:8080/",
     "height": 337
    },
    "id": "UjrhCeP2LY58",
    "outputId": "b4ded470-a988-462d-c8ff-34f60bffb9a6"
   },
   "outputs": [
    {
     "data": {
      "text/html": [
       "<div>\n",
       "<style scoped>\n",
       "    .dataframe tbody tr th:only-of-type {\n",
       "        vertical-align: middle;\n",
       "    }\n",
       "\n",
       "    .dataframe tbody tr th {\n",
       "        vertical-align: top;\n",
       "    }\n",
       "\n",
       "    .dataframe thead th {\n",
       "        text-align: right;\n",
       "    }\n",
       "</style>\n",
       "<table border=\"1\" class=\"dataframe\">\n",
       "  <thead>\n",
       "    <tr style=\"text-align: right;\">\n",
       "      <th></th>\n",
       "      <th>Id_Pengguna</th>\n",
       "      <th>Nama_Pengguna</th>\n",
       "      <th>Usia</th>\n",
       "      <th>Pendidikan</th>\n",
       "      <th>Keterampilan</th>\n",
       "      <th>Industri</th>\n",
       "    </tr>\n",
       "  </thead>\n",
       "  <tbody>\n",
       "    <tr>\n",
       "      <th>2</th>\n",
       "      <td>3</td>\n",
       "      <td>Cindy</td>\n",
       "      <td>27</td>\n",
       "      <td>SMA</td>\n",
       "      <td>Keterampilan menjahit</td>\n",
       "      <td>Fashion</td>\n",
       "    </tr>\n",
       "    <tr>\n",
       "      <th>4</th>\n",
       "      <td>5</td>\n",
       "      <td>Eko</td>\n",
       "      <td>29</td>\n",
       "      <td>SMA</td>\n",
       "      <td>Keterampilan batik</td>\n",
       "      <td>Fashion</td>\n",
       "    </tr>\n",
       "    <tr>\n",
       "      <th>18</th>\n",
       "      <td>19</td>\n",
       "      <td>Tono</td>\n",
       "      <td>32</td>\n",
       "      <td>S1</td>\n",
       "      <td>Keterampilan pembuatan kain tenun</td>\n",
       "      <td>Fashion</td>\n",
       "    </tr>\n",
       "    <tr>\n",
       "      <th>12</th>\n",
       "      <td>13</td>\n",
       "      <td>Mira</td>\n",
       "      <td>28</td>\n",
       "      <td>D3</td>\n",
       "      <td>Keterampilan pemotongan kain</td>\n",
       "      <td>Fashion</td>\n",
       "    </tr>\n",
       "    <tr>\n",
       "      <th>5</th>\n",
       "      <td>6</td>\n",
       "      <td>Fani</td>\n",
       "      <td>31</td>\n",
       "      <td>D3</td>\n",
       "      <td>Keterampilan pemotongan kayu</td>\n",
       "      <td>Furnitur</td>\n",
       "    </tr>\n",
       "  </tbody>\n",
       "</table>\n",
       "</div>"
      ],
      "text/plain": [
       "    Id_Pengguna Nama_Pengguna  Usia Pendidikan  \\\n",
       "2             3         Cindy    27        SMA   \n",
       "4             5           Eko    29        SMA   \n",
       "18           19          Tono    32         S1   \n",
       "12           13          Mira    28         D3   \n",
       "5             6          Fani    31         D3   \n",
       "\n",
       "                         Keterampilan  Industri  \n",
       "2               Keterampilan menjahit   Fashion  \n",
       "4                  Keterampilan batik   Fashion  \n",
       "18  Keterampilan pembuatan kain tenun   Fashion  \n",
       "12       Keterampilan pemotongan kain   Fashion  \n",
       "5        Keterampilan pemotongan kayu  Furnitur  "
      ]
     },
     "execution_count": 12,
     "metadata": {},
     "output_type": "execute_result"
    }
   ],
   "source": [
    "# sort\n",
    "preparation = user\n",
    "preparation.sort_values('Industri').head()"
   ]
  },
  {
   "cell_type": "code",
   "execution_count": 13,
   "metadata": {
    "colab": {
     "base_uri": "https://localhost:8080/"
    },
    "id": "VYHx_XHRvcIW",
    "outputId": "c531abe8-2e10-4482-dd54-4ddfc0de015e"
   },
   "outputs": [
    {
     "data": {
      "text/plain": [
       "(20, 6)"
      ]
     },
     "execution_count": 13,
     "metadata": {},
     "output_type": "execute_result"
    }
   ],
   "source": [
    "# dataframes shape\n",
    "preparation.shape"
   ]
  },
  {
   "cell_type": "code",
   "execution_count": 14,
   "metadata": {
    "colab": {
     "base_uri": "https://localhost:8080/"
    },
    "id": "N-Elt7mIMaHI",
    "outputId": "7d8cafc2-5414-4f2d-9e4d-be4e2473c0a5"
   },
   "outputs": [
    {
     "name": "stdout",
     "output_type": "stream",
     "text": [
      "20\n",
      "20\n",
      "20\n"
     ]
    }
   ],
   "source": [
    "# Convert data series ‘Id_Pengguna’ to list form\n",
    "Id_Pengguna = preparation['Id_Pengguna'].tolist()\n",
    "\n",
    "# Convert data series ‘Keterampilan’ to list form\n",
    "Keterampilan = preparation['Keterampilan'].tolist()\n",
    "\n",
    "# Convert data series ‘Industri’ to list form\n",
    "Industri = preparation['Industri'].tolist()\n",
    "\n",
    "# count\n",
    "print(len(Id_Pengguna))\n",
    "print(len(Keterampilan))\n",
    "print(len(Industri))"
   ]
  },
  {
   "cell_type": "code",
   "execution_count": 15,
   "metadata": {
    "colab": {
     "base_uri": "https://localhost:8080/",
     "height": 206
    },
    "id": "sZXmFtaWM1z9",
    "outputId": "52f59d3a-9364-4d64-889a-9ad523788c2d"
   },
   "outputs": [
    {
     "data": {
      "text/html": [
       "<div>\n",
       "<style scoped>\n",
       "    .dataframe tbody tr th:only-of-type {\n",
       "        vertical-align: middle;\n",
       "    }\n",
       "\n",
       "    .dataframe tbody tr th {\n",
       "        vertical-align: top;\n",
       "    }\n",
       "\n",
       "    .dataframe thead th {\n",
       "        text-align: right;\n",
       "    }\n",
       "</style>\n",
       "<table border=\"1\" class=\"dataframe\">\n",
       "  <thead>\n",
       "    <tr style=\"text-align: right;\">\n",
       "      <th></th>\n",
       "      <th>Id_Pengguna</th>\n",
       "      <th>Keterampilan</th>\n",
       "      <th>Industri</th>\n",
       "    </tr>\n",
       "  </thead>\n",
       "  <tbody>\n",
       "    <tr>\n",
       "      <th>0</th>\n",
       "      <td>1</td>\n",
       "      <td>Keterampilan kebun</td>\n",
       "      <td>Pertanian</td>\n",
       "    </tr>\n",
       "    <tr>\n",
       "      <th>1</th>\n",
       "      <td>2</td>\n",
       "      <td>Keterampilan anyaman</td>\n",
       "      <td>Kerajinan</td>\n",
       "    </tr>\n",
       "    <tr>\n",
       "      <th>2</th>\n",
       "      <td>3</td>\n",
       "      <td>Keterampilan menjahit</td>\n",
       "      <td>Fashion</td>\n",
       "    </tr>\n",
       "    <tr>\n",
       "      <th>3</th>\n",
       "      <td>4</td>\n",
       "      <td>Keterampilan kerajinan tangan</td>\n",
       "      <td>Kerajinan</td>\n",
       "    </tr>\n",
       "    <tr>\n",
       "      <th>4</th>\n",
       "      <td>5</td>\n",
       "      <td>Keterampilan batik</td>\n",
       "      <td>Fashion</td>\n",
       "    </tr>\n",
       "  </tbody>\n",
       "</table>\n",
       "</div>"
      ],
      "text/plain": [
       "   Id_Pengguna                   Keterampilan   Industri\n",
       "0            1             Keterampilan kebun  Pertanian\n",
       "1            2           Keterampilan anyaman  Kerajinan\n",
       "2            3          Keterampilan menjahit    Fashion\n",
       "3            4  Keterampilan kerajinan tangan  Kerajinan\n",
       "4            5             Keterampilan batik    Fashion"
      ]
     },
     "execution_count": 15,
     "metadata": {},
     "output_type": "execute_result"
    }
   ],
   "source": [
    "# Create dataframe user using dict form of ‘Id_Pengguna’, ‘Keterampilan’, and ‘Industri’\n",
    "df_user = pd.DataFrame({\n",
    "    'Id_Pengguna' : Id_Pengguna,\n",
    "    'Keterampilan' : Keterampilan,\n",
    "    'Industri' : Industri\n",
    "})\n",
    "\n",
    "df_user.head()"
   ]
  },
  {
   "cell_type": "markdown",
   "metadata": {
    "id": "5QAKThHTxOTe"
   },
   "source": [
    "## **Model Development**"
   ]
  },
  {
   "cell_type": "markdown",
   "metadata": {
    "id": "j1ELx1RyNmpD"
   },
   "source": [
    "### **Data Modelling - Content-Based Filtering**"
   ]
  },
  {
   "cell_type": "code",
   "execution_count": 31,
   "metadata": {
    "colab": {
     "base_uri": "https://localhost:8080/",
     "height": 206
    },
    "id": "Tqix91H5NsRh",
    "outputId": "41d8263e-d336-4f7b-cc92-4b7be2a49af1"
   },
   "outputs": [
    {
     "data": {
      "text/html": [
       "<div>\n",
       "<style scoped>\n",
       "    .dataframe tbody tr th:only-of-type {\n",
       "        vertical-align: middle;\n",
       "    }\n",
       "\n",
       "    .dataframe tbody tr th {\n",
       "        vertical-align: top;\n",
       "    }\n",
       "\n",
       "    .dataframe thead th {\n",
       "        text-align: right;\n",
       "    }\n",
       "</style>\n",
       "<table border=\"1\" class=\"dataframe\">\n",
       "  <thead>\n",
       "    <tr style=\"text-align: right;\">\n",
       "      <th></th>\n",
       "      <th>Id_Pengguna</th>\n",
       "      <th>Keterampilan</th>\n",
       "      <th>Industri</th>\n",
       "    </tr>\n",
       "  </thead>\n",
       "  <tbody>\n",
       "    <tr>\n",
       "      <th>16</th>\n",
       "      <td>17</td>\n",
       "      <td>Keterampilan pemintalan wol</td>\n",
       "      <td>Tekstil</td>\n",
       "    </tr>\n",
       "    <tr>\n",
       "      <th>2</th>\n",
       "      <td>3</td>\n",
       "      <td>Keterampilan menjahit</td>\n",
       "      <td>Fashion</td>\n",
       "    </tr>\n",
       "    <tr>\n",
       "      <th>1</th>\n",
       "      <td>2</td>\n",
       "      <td>Keterampilan anyaman</td>\n",
       "      <td>Kerajinan</td>\n",
       "    </tr>\n",
       "    <tr>\n",
       "      <th>14</th>\n",
       "      <td>15</td>\n",
       "      <td>Keterampilan pengrajin logam</td>\n",
       "      <td>Manufaktur</td>\n",
       "    </tr>\n",
       "    <tr>\n",
       "      <th>7</th>\n",
       "      <td>8</td>\n",
       "      <td>Keterampilan las</td>\n",
       "      <td>Manufaktur</td>\n",
       "    </tr>\n",
       "  </tbody>\n",
       "</table>\n",
       "</div>"
      ],
      "text/plain": [
       "    Id_Pengguna                  Keterampilan    Industri\n",
       "16           17   Keterampilan pemintalan wol     Tekstil\n",
       "2             3         Keterampilan menjahit     Fashion\n",
       "1             2          Keterampilan anyaman   Kerajinan\n",
       "14           15  Keterampilan pengrajin logam  Manufaktur\n",
       "7             8              Keterampilan las  Manufaktur"
      ]
     },
     "execution_count": 31,
     "metadata": {},
     "output_type": "execute_result"
    }
   ],
   "source": [
    "# sample\n",
    "data = df_user\n",
    "data.sample(5)"
   ]
  },
  {
   "cell_type": "code",
   "execution_count": 65,
   "metadata": {
    "colab": {
     "base_uri": "https://localhost:8080/"
    },
    "id": "Yu6B1rh4Nyy8",
    "outputId": "33babe7a-0b96-49ac-d879-98ec4427e70b"
   },
   "outputs": [
    {
     "name": "stdout",
     "output_type": "stream",
     "text": [
      "17\n"
     ]
    }
   ],
   "source": [
    "# Input user's Id_Pengguna\n",
    "user_id = random.choice(data[\"Id_Pengguna\"])\n",
    "\n",
    "# Get user's skills based on Id_Pengguna\n",
    "user_skills = data[data[\"Id_Pengguna\"] == user_id][\"Keterampilan\"].values[0]\n",
    "\n",
    "print(user_id)"
   ]
  },
  {
   "cell_type": "code",
   "execution_count": 33,
   "metadata": {
    "colab": {
     "base_uri": "https://localhost:8080/"
    },
    "id": "xA-pB6moN-r_",
    "outputId": "c3fab241-4f23-409b-efbc-fcb4c93c0789"
   },
   "outputs": [],
   "source": [
    "# Create TF-IDF vectorizer\n",
    "vectorizer = TfidfVectorizer()\n",
    "\n",
    "# Fit and transform job descriptions\n",
    "job_descriptions = vectorizer.fit_transform(job[\"Deskripsi_Pekerjaan\"])"
   ]
  },
  {
   "cell_type": "code",
   "execution_count": 34,
   "metadata": {
    "colab": {
     "base_uri": "https://localhost:8080/"
    },
    "id": "M7-kr03iOKf8",
    "outputId": "33154e17-1824-448d-fdee-016bb312f3a4"
   },
   "outputs": [],
   "source": [
    "# Transform user's skills\n",
    "user_skills_vector = vectorizer.transform([user_skills])\n",
    "\n",
    "# Calculate cosine similarity between user's skills and job descriptions\n",
    "similarity_scores = cosine_similarity(user_skills_vector, job_descriptions).flatten()"
   ]
  },
  {
   "cell_type": "code",
   "execution_count": 35,
   "metadata": {
    "colab": {
     "base_uri": "https://localhost:8080/",
     "height": 508
    },
    "id": "zxil9KplOPvy",
    "outputId": "c4642cc4-924b-40f7-88be-798392d01e32"
   },
   "outputs": [],
   "source": [
    "# Find indices of jobs that match user's skills\n",
    "matching_job_indices = similarity_scores.argsort()[::-1]\n",
    "\n",
    "# Filter job_data based on matching_job_indices\n",
    "matching_jobs = job.iloc[matching_job_indices]"
   ]
  },
  {
   "cell_type": "code",
   "execution_count": 36,
   "metadata": {
    "colab": {
     "base_uri": "https://localhost:8080/"
    },
    "id": "auMSO2b7Oqzu",
    "outputId": "fb4d8524-3c01-4648-fe05-af61365009fd"
   },
   "outputs": [
    {
     "name": "stdout",
     "output_type": "stream",
     "text": [
      "\n",
      "Shape: (20, 27)\n"
     ]
    }
   ],
   "source": [
    "# Filter matching_jobs based on user's skills\n",
    "matching_jobs = matching_jobs[matching_jobs[\"Keterampilan\"].str.contains(user_skills)]\n",
    "\n",
    "# fit & transform to matrix\n",
    "tfidf_matrix = vectorizer.fit_transform(data['Keterampilan'])\n",
    "\n",
    "# show matrix dimension\n",
    "print(\"\\nShape:\", tfidf_matrix.shape)"
   ]
  },
  {
   "cell_type": "code",
   "execution_count": 37,
   "metadata": {
    "colab": {
     "base_uri": "https://localhost:8080/",
     "height": 508
    },
    "id": "HRUizHXlOuQS",
    "outputId": "6ccc1212-033c-4f42-d663-3fb386ad9ea7"
   },
   "outputs": [
    {
     "data": {
      "text/plain": [
       "matrix([[0.        , 0.        , 0.        , 0.        , 0.        ,\n",
       "         0.        , 0.        , 0.95825118, 0.        , 0.        ,\n",
       "         0.28592775, 0.        , 0.        , 0.        , 0.        ,\n",
       "         0.        , 0.        , 0.        , 0.        , 0.        ,\n",
       "         0.        , 0.        , 0.        , 0.        , 0.        ,\n",
       "         0.        , 0.        ],\n",
       "        [0.95825118, 0.        , 0.        , 0.        , 0.        ,\n",
       "         0.        , 0.        , 0.        , 0.        , 0.        ,\n",
       "         0.28592775, 0.        , 0.        , 0.        , 0.        ,\n",
       "         0.        , 0.        , 0.        , 0.        , 0.        ,\n",
       "         0.        , 0.        , 0.        , 0.        , 0.        ,\n",
       "         0.        , 0.        ],\n",
       "        [0.        , 0.        , 0.        , 0.        , 0.        ,\n",
       "         0.        , 0.        , 0.        , 0.        , 0.        ,\n",
       "         0.28592775, 0.        , 0.        , 0.        , 0.95825118,\n",
       "         0.        , 0.        , 0.        , 0.        , 0.        ,\n",
       "         0.        , 0.        , 0.        , 0.        , 0.        ,\n",
       "         0.        , 0.        ],\n",
       "        [0.        , 0.        , 0.        , 0.        , 0.        ,\n",
       "         0.        , 0.        , 0.        , 0.69187444, 0.        ,\n",
       "         0.20644493, 0.        , 0.        , 0.        , 0.        ,\n",
       "         0.        , 0.        , 0.        , 0.        , 0.        ,\n",
       "         0.        , 0.        , 0.        , 0.        , 0.69187444,\n",
       "         0.        , 0.        ],\n",
       "        [0.        , 0.        , 0.95825118, 0.        , 0.        ,\n",
       "         0.        , 0.        , 0.        , 0.        , 0.        ,\n",
       "         0.28592775, 0.        , 0.        , 0.        , 0.        ,\n",
       "         0.        , 0.        , 0.        , 0.        , 0.        ,\n",
       "         0.        , 0.        , 0.        , 0.        , 0.        ,\n",
       "         0.        , 0.        ],\n",
       "        [0.        , 0.        , 0.        , 0.        , 0.        ,\n",
       "         0.        , 0.76290088, 0.        , 0.        , 0.        ,\n",
       "         0.22763816, 0.        , 0.        , 0.        , 0.        ,\n",
       "         0.        , 0.        , 0.        , 0.        , 0.60511414,\n",
       "         0.        , 0.        , 0.        , 0.        , 0.        ,\n",
       "         0.        , 0.        ],\n",
       "        [0.        , 0.        , 0.        , 0.        , 0.73290043,\n",
       "         0.        , 0.        , 0.        , 0.        , 0.        ,\n",
       "         0.21868647, 0.        , 0.        , 0.        , 0.        ,\n",
       "         0.        , 0.        , 0.        , 0.6442307 , 0.        ,\n",
       "         0.        , 0.        , 0.        , 0.        , 0.        ,\n",
       "         0.        , 0.        ],\n",
       "        [0.        , 0.        , 0.        , 0.        , 0.        ,\n",
       "         0.        , 0.        , 0.        , 0.        , 0.        ,\n",
       "         0.28592775, 0.95825118, 0.        , 0.        , 0.        ,\n",
       "         0.        , 0.        , 0.        , 0.        , 0.        ,\n",
       "         0.        , 0.        , 0.        , 0.        , 0.        ,\n",
       "         0.        , 0.        ],\n",
       "        [0.        , 0.        , 0.        , 0.        , 0.        ,\n",
       "         0.        , 0.        , 0.        , 0.        , 0.        ,\n",
       "         0.22763816, 0.        , 0.        , 0.        , 0.        ,\n",
       "         0.        , 0.        , 0.60511414, 0.        , 0.        ,\n",
       "         0.        , 0.        , 0.        , 0.76290088, 0.        ,\n",
       "         0.        , 0.        ],\n",
       "        [0.        , 0.        , 0.        , 0.        , 0.        ,\n",
       "         0.        , 0.        , 0.        , 0.        , 0.        ,\n",
       "         0.20644493, 0.        , 0.        , 0.        , 0.        ,\n",
       "         0.69187444, 0.        , 0.        , 0.        , 0.        ,\n",
       "         0.        , 0.69187444, 0.        , 0.        , 0.        ,\n",
       "         0.        , 0.        ],\n",
       "        [0.        , 0.        , 0.        , 0.        , 0.        ,\n",
       "         0.        , 0.        , 0.        , 0.        , 0.95825118,\n",
       "         0.28592775, 0.        , 0.        , 0.        , 0.        ,\n",
       "         0.        , 0.        , 0.        , 0.        , 0.        ,\n",
       "         0.        , 0.        , 0.        , 0.        , 0.        ,\n",
       "         0.        , 0.        ],\n",
       "        [0.        , 0.        , 0.        , 0.        , 0.        ,\n",
       "         0.        , 0.        , 0.        , 0.        , 0.        ,\n",
       "         0.28592775, 0.        , 0.        , 0.        , 0.        ,\n",
       "         0.        , 0.95825118, 0.        , 0.        , 0.        ,\n",
       "         0.        , 0.        , 0.        , 0.        , 0.        ,\n",
       "         0.        , 0.        ],\n",
       "        [0.        , 0.        , 0.        , 0.        , 0.        ,\n",
       "         0.71991726, 0.        , 0.        , 0.        , 0.        ,\n",
       "         0.24437855, 0.        , 0.        , 0.        , 0.        ,\n",
       "         0.        , 0.        , 0.        , 0.        , 0.64961393,\n",
       "         0.        , 0.        , 0.        , 0.        , 0.        ,\n",
       "         0.        , 0.        ],\n",
       "        [0.        , 0.        , 0.        , 0.        , 0.        ,\n",
       "         0.        , 0.        , 0.        , 0.        , 0.        ,\n",
       "         0.22763816, 0.        , 0.        , 0.76290088, 0.        ,\n",
       "         0.        , 0.        , 0.60511414, 0.        , 0.        ,\n",
       "         0.        , 0.        , 0.        , 0.        , 0.        ,\n",
       "         0.        , 0.        ],\n",
       "        [0.        , 0.        , 0.        , 0.        , 0.        ,\n",
       "         0.        , 0.        , 0.        , 0.        , 0.        ,\n",
       "         0.21868647, 0.        , 0.73290043, 0.        , 0.        ,\n",
       "         0.        , 0.        , 0.        , 0.        , 0.        ,\n",
       "         0.6442307 , 0.        , 0.        , 0.        , 0.        ,\n",
       "         0.        , 0.        ],\n",
       "        [0.        , 0.        , 0.        , 0.76290088, 0.        ,\n",
       "         0.        , 0.        , 0.        , 0.        , 0.        ,\n",
       "         0.22763816, 0.        , 0.        , 0.        , 0.        ,\n",
       "         0.        , 0.        , 0.        , 0.        , 0.60511414,\n",
       "         0.        , 0.        , 0.        , 0.        , 0.        ,\n",
       "         0.        , 0.        ],\n",
       "        [0.        , 0.        , 0.        , 0.        , 0.        ,\n",
       "         0.        , 0.        , 0.        , 0.        , 0.        ,\n",
       "         0.21868647, 0.        , 0.        , 0.        , 0.        ,\n",
       "         0.        , 0.        , 0.        , 0.6442307 , 0.        ,\n",
       "         0.        , 0.        , 0.        , 0.        , 0.        ,\n",
       "         0.        , 0.73290043],\n",
       "        [0.        , 0.95825118, 0.        , 0.        , 0.        ,\n",
       "         0.        , 0.        , 0.        , 0.        , 0.        ,\n",
       "         0.28592775, 0.        , 0.        , 0.        , 0.        ,\n",
       "         0.        , 0.        , 0.        , 0.        , 0.        ,\n",
       "         0.        , 0.        , 0.        , 0.        , 0.        ,\n",
       "         0.        , 0.        ],\n",
       "        [0.        , 0.        , 0.        , 0.        , 0.        ,\n",
       "         0.55696066, 0.        , 0.        , 0.        , 0.        ,\n",
       "         0.18906234, 0.        , 0.        , 0.        , 0.        ,\n",
       "         0.        , 0.        , 0.50257081, 0.        , 0.        ,\n",
       "         0.        , 0.        , 0.        , 0.        , 0.        ,\n",
       "         0.63361884, 0.        ],\n",
       "        [0.        , 0.        , 0.        , 0.        , 0.        ,\n",
       "         0.        , 0.        , 0.        , 0.        , 0.        ,\n",
       "         0.21868647, 0.        , 0.        , 0.        , 0.        ,\n",
       "         0.        , 0.        , 0.        , 0.        , 0.        ,\n",
       "         0.6442307 , 0.        , 0.73290043, 0.        , 0.        ,\n",
       "         0.        , 0.        ]])"
      ]
     },
     "execution_count": 37,
     "metadata": {},
     "output_type": "execute_result"
    }
   ],
   "source": [
    "# change tf-idf vector to matrix form\n",
    "tfidf_matrix.todense()"
   ]
  },
  {
   "cell_type": "code",
   "execution_count": 56,
   "metadata": {
    "id": "B11aSNPq1ZiJ"
   },
   "outputs": [],
   "source": [
    "# dataframe tf-idf matrix, row: Id_Pengguna, columns: Keterampilan\n",
    "tfidf_df = pd.DataFrame(\n",
    "    tfidf_matrix.todense(),\n",
    "    columns=vectorizer.get_feature_names_out(),\n",
    "    index=data.Id_Pengguna\n",
    ")"
   ]
  },
  {
   "cell_type": "code",
   "execution_count": 57,
   "metadata": {},
   "outputs": [
    {
     "name": "stdout",
     "output_type": "stream",
     "text": [
      "\n",
      "Shape: (20, 20)\n"
     ]
    }
   ],
   "source": [
    "# calculate cosine similarity on matrix\n",
    "cosine_sim = cosine_similarity(tfidf_matrix)\n",
    "cosine_sim_df = pd.DataFrame(cosine_sim, index=data['Id_Pengguna'], columns=data['Id_Pengguna'])\n",
    "print('\\nShape:', cosine_sim_df.shape)"
   ]
  },
  {
   "cell_type": "code",
   "execution_count": 62,
   "metadata": {
    "colab": {
     "base_uri": "https://localhost:8080/",
     "height": 35
    },
    "id": "zsEBr1E12R2X",
    "outputId": "0ff83530-f460-4d8d-9499-d63b956110cb"
   },
   "outputs": [
    {
     "name": "stdout",
     "output_type": "stream",
     "text": [
      "\n",
      "Pekerjaan yang cocok dengan keterampilan pengguna Id_Pengguna 5\n",
      "Nama_Pekerjaan: Pembuat Patung\n",
      "Gaji: Rp 4.500.000 - Rp 5.500.000\n",
      "Keterampilan: Keterampilan patung\n",
      "Penempatan: Yogyakarta\n",
      "\n"
     ]
    }
   ],
   "source": [
    "# Print matching jobs\n",
    "print(\"\\nPekerjaan yang cocok dengan keterampilan pengguna Id_Pengguna\", user_id)\n",
    "for index, row in matching_jobs.iterrows():\n",
    "    print(\"Nama_Pekerjaan:\", row[\"Nama_Pekerjaan\"])\n",
    "    print(\"Gaji:\", row[\"Gaji\"])\n",
    "    print(\"Keterampilan:\", row[\"Keterampilan\"])\n",
    "    print(\"Penempatan:\", row[\"Lokasi_Pekerjaan\"])\n",
    "    print()"
   ]
  },
  {
   "cell_type": "markdown",
   "metadata": {
    "id": "SftbIIcGYkVw"
   },
   "source": [
    "Yeayyy, Congrats. this is recommendation for you."
   ]
  },
  {
   "cell_type": "markdown",
   "metadata": {
    "id": "k1cIJEyyU9Xz"
   },
   "source": [
    "### **Data Modelling - Collaborative Filtering**"
   ]
  },
  {
   "cell_type": "markdown",
   "metadata": {
    "id": "OoB7OVcGW6ym"
   },
   "source": [
    "Yeay! The model has been able to provide recommendations for tourist attractions to the user. Where, the recommendation results for userId 238 are places with the 'Taman Hiburan' category. This can be seen in the recommendations for high ratings from users and the Top 10 recommended tourist spots for users."
   ]
  },
  {
   "cell_type": "markdown",
   "metadata": {
    "id": "d-S4UMfYYscH"
   },
   "source": [
    "## **Conclusion**\n",
    "\n",
    "Based on result, I think the recommendation system has been unable to handle cases to make an itinerary plan for users because the resulting output is still very random, based on the similarity of tourist attractions and the ratings users give."
   ]
  }
 ],
 "metadata": {
  "accelerator": "GPU",
  "colab": {
   "gpuType": "T4",
   "provenance": [],
   "toc_visible": true
  },
  "kernelspec": {
   "display_name": "Python 3 (ipykernel)",
   "language": "python",
   "name": "python3"
  },
  "language_info": {
   "codemirror_mode": {
    "name": "ipython",
    "version": 3
   },
   "file_extension": ".py",
   "mimetype": "text/x-python",
   "name": "python",
   "nbconvert_exporter": "python",
   "pygments_lexer": "ipython3",
   "version": "3.9.2"
  }
 },
 "nbformat": 4,
 "nbformat_minor": 4
}
